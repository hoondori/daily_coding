{
 "cells": [
  {
   "cell_type": "code",
   "execution_count": null,
   "id": "84f95fe8",
   "metadata": {},
   "outputs": [],
   "source": [
    "# conda env monte-prob"
   ]
  },
  {
   "cell_type": "markdown",
   "id": "dec1ab0f",
   "metadata": {},
   "source": [
    "# 몬테카를로 시뮬레이션으로 배우는 확률 통계 (연속형 분포 샘플링)\n"
   ]
  },
  {
   "cell_type": "code",
   "execution_count": 6,
   "id": "1eb279b9",
   "metadata": {},
   "outputs": [],
   "source": [
    "import matplotlib.pyplot as plt\n",
    "plt.rcParams[\"figure.figsize\"] = (3,2)"
   ]
  },
  {
   "cell_type": "markdown",
   "id": "a89f4142",
   "metadata": {},
   "source": [
    "## 정규형 분포 샘플링 by MCMC"
   ]
  },
  {
   "cell_type": "code",
   "execution_count": 7,
   "id": "238b7adf",
   "metadata": {},
   "outputs": [
    {
     "data": {
      "image/png": "[encoded data removed]",
      "text/plain": [
       "<Figure size 300x200 with 1 Axes>"
      ]
     },
     "metadata": {},
     "output_type": "display_data"
    }
   ],
   "source": [
    "def pseudo_sample(x0 = 16809,\n",
    "                  mod = (2**31)-1,\n",
    "                  seed = 1234567,\n",
    "                  size = 1):\n",
    "    res = []\n",
    "    x = (seed*x0 + 1)%mod\n",
    "    u = x/mod\n",
    "    res.append(u)\n",
    "    for i in range(1, size):\n",
    "        x = (seed*x + 1)%mod\n",
    "        u = x/mod\n",
    "        res.append(u)\n",
    "    return res\n",
    "\n",
    "def uniform_cont(low=0, high=1, seed=1234567, size=1):\n",
    "    s_list = pseudo_sample(seed=seed, size=size)\n",
    "    res = [low+(high-low)*s for s in s_list]\n",
    "    return res\n",
    "\n",
    "def uniform_disc(low=0, high=1, seed=1234567, size=1):\n",
    "    s_list = pseudo_sample(seed=seed, size=size)\n",
    "    res = [int(low+(high-low)*s) for s in s_list]\n",
    "    return res    \n",
    "\n",
    "def normal_pdf(mu, s, x):\n",
    "    pi = 3.1415926535\n",
    "    e = 2.7182818284\n",
    "    res = (1/(((2*pi)**0.5)*s)) *(e**(-0.5*((x-mu)/s)**2))\n",
    "    return res\n",
    "\n",
    "def normal_sample(mu, s, seed=1234567, size=1):\n",
    "    burn_in = 100\n",
    "    size = burn_in + size\n",
    "    u_list = pseudo_sample(seed=seed+2, size=size)\n",
    "    xt_candidates = uniform_cont(low=mu-3*s, high=mu+3*s, size=size)\n",
    "    x0=mu\n",
    "    xt=x0\n",
    "    res=[]\n",
    "    \n",
    "    for i in range(0, size):\n",
    "        xt_candidate = xt_candidates[i]\n",
    "        pi_y = normal_pdf(mu, s, xt_candidate)\n",
    "        pi_x = normal_pdf(mu, s, xt)\n",
    "        accept_prob = pi_y/pi_x\n",
    "        if u_list[i] < accept_prob:\n",
    "            xt = xt_candidate\n",
    "        res.append(xt)\n",
    "    res = res[burn_in:]\n",
    "    return res\n",
    "samples = normal_sample(mu=10, s=3, size=1000)\n",
    "plt.hist(samples, bins=20)\n",
    "plt.show()"
   ]
  },
  {
   "cell_type": "markdown",
   "id": "e2547888",
   "metadata": {},
   "source": [
    "## 감마 분포 샘플링"
   ]
  },
  {
   "cell_type": "code",
   "execution_count": 10,
   "id": "11d9e3cf",
   "metadata": {},
   "outputs": [
    {
     "data": {
      "image/png": "[encoded data removed]",
      "text/plain": [
       "<Figure size 300x200 with 1 Axes>"
      ]
     },
     "metadata": {},
     "output_type": "display_data"
    }
   ],
   "source": [
    "def seq(start, stop, step):\n",
    "    res = []\n",
    "    current = start\n",
    "    while current < stop:\n",
    "        res.append(current)\n",
    "        current += step\n",
    "    return res\n",
    "\n",
    "\n",
    "def gamma_function(alpha, x):\n",
    "    e = 2.7182818284\n",
    "    res = (x**(alpha-1)*(e**(-x)))\n",
    "    return res\n",
    "\n",
    "def gamma(alpha):\n",
    "    a = 0\n",
    "    b = 100\n",
    "    x_list = seq(a+0.0001, b, 0.001)\n",
    "    \n",
    "    gamma_list = []\n",
    "    for x in x_list:\n",
    "        y = gamma_function(alpha, x)\n",
    "        gamma_list.append(y)\n",
    "    res = ((b-a)/len(x_list)*sum(gamma_list))\n",
    "    return res\n",
    "\n",
    "def gamma_pdf(alpha, beta, x):\n",
    "    e = 2.7182818284\n",
    "    res = (1/(gamma(alpha)*(beta**alpha)))*(x**(alpha-1))*(e**((-1/beta)*x))\n",
    "    return res\n",
    "\n",
    "\n",
    "def gamma_sample(alpha, beta, seed=1234567, size=1):\n",
    "    burn_in = 100\n",
    "    size = burn_in + size\n",
    "    u_list = pseudo_sample(seed=seed+2, size=size)\n",
    "    xt_candidates = uniform_cont(low=0, high=5*alpha*beta, size=size)\n",
    "    x0=alpha*beta\n",
    "    xt=x0\n",
    "    res=[]\n",
    "    \n",
    "    for i in range(0, size):\n",
    "        xt_candidate = xt_candidates[i]\n",
    "        pi_y = gamma_pdf(alpha, beta, xt_candidate)\n",
    "        pi_x = gamma_pdf(alpha, beta, xt)\n",
    "        accept_prob = pi_y/pi_x\n",
    "        if u_list[i] < accept_prob:\n",
    "            xt = xt_candidate\n",
    "        res.append(xt)\n",
    "    res = res[burn_in:]\n",
    "    return res\n",
    "samples = gamma_sample(alpha=4, beta=2, size=1000)\n",
    "plt.hist(samples, bins=20)\n",
    "plt.show()"
   ]
  },
  {
   "cell_type": "markdown",
   "id": "ab0be795",
   "metadata": {},
   "source": [
    "## 지수 분포 샘플링"
   ]
  },
  {
   "cell_type": "code",
   "execution_count": 11,
   "id": "c78d86ea",
   "metadata": {},
   "outputs": [
    {
     "data": {
      "image/png": "[encoded data removed]",
      "text/plain": [
       "<Figure size 300x200 with 1 Axes>"
      ]
     },
     "metadata": {},
     "output_type": "display_data"
    }
   ],
   "source": [
    "def exponential_pdf(beta, x):\n",
    "    e = 2.7182818284\n",
    "    res = (1/beta)*(e**((-1/beta)*x))\n",
    "    return res\n",
    "\n",
    "def exponential_sample(beta, seed=1234567, size=1):\n",
    "    burn_in = 100\n",
    "    size = burn_in + size\n",
    "    u_list = pseudo_sample(seed=seed+2, size=size)\n",
    "    xt_candidates = uniform_cont(low=0, high=10*beta, size=size)\n",
    "    x0=beta\n",
    "    xt=x0\n",
    "    res=[]\n",
    "    \n",
    "    for i in range(0, size):\n",
    "        xt_candidate = xt_candidates[i]\n",
    "        pi_y = exponential_pdf(beta, xt_candidate)\n",
    "        pi_x = exponential_pdf(beta, xt)\n",
    "        accept_prob = pi_y/pi_x\n",
    "        if u_list[i] < accept_prob:\n",
    "            xt = xt_candidate\n",
    "        res.append(xt)\n",
    "    res = res[burn_in:]\n",
    "    return res\n",
    "samples = exponential_sample(beta=2, size=1000)\n",
    "plt.hist(samples, bins=20)\n",
    "plt.show()"
   ]
  },
  {
   "cell_type": "markdown",
   "id": "fd1a1674",
   "metadata": {},
   "source": [
    "## 베타 분포 샘플링"
   ]
  },
  {
   "cell_type": "code",
   "execution_count": 12,
   "id": "9655e89e",
   "metadata": {},
   "outputs": [
    {
     "data": {
      "image/png": "[encoded data removed]",
      "text/plain": [
       "<Figure size 300x200 with 1 Axes>"
      ]
     },
     "metadata": {},
     "output_type": "display_data"
    }
   ],
   "source": [
    "def beta_pdf(alpha, beta, x):\n",
    "    beta_function = ((gamma(alpha+beta))/(gamma(alpha)*gamma(beta)))\n",
    "    res = beta_function*(x**(alpha-1))*((1-x)**(beta-1))\n",
    "    return res\n",
    "\n",
    "def beta_sample(alpha, beta, seed=1234567, size=1):\n",
    "    burn_in = 100\n",
    "    size = burn_in + size\n",
    "    u_list = pseudo_sample(seed=seed+2, size=size)\n",
    "    xt_candidates = uniform_cont(low=0, high=1, size=size)\n",
    "    x0=0.5\n",
    "    xt=x0\n",
    "    res=[]\n",
    "    \n",
    "    for i in range(0, size):\n",
    "        xt_candidate = xt_candidates[i]\n",
    "        pi_y = beta_pdf(alpha, beta, xt_candidate)\n",
    "        pi_x = beta_pdf(alpha, beta, xt)\n",
    "        accept_prob = pi_y/pi_x\n",
    "        if u_list[i] < accept_prob:\n",
    "            xt = xt_candidate\n",
    "        res.append(xt)\n",
    "    res = res[burn_in:]\n",
    "    return res\n",
    "samples = beta_sample(alpha=0.5, beta=0.5, size=1000)\n",
    "plt.hist(samples, bins=20)\n",
    "plt.show()"
   ]
  }
 ],
 "metadata": {
  "kernelspec": {
   "display_name": "monte-prob",
   "language": "python",
   "name": "monte-prob"
  },
  "language_info": {
   "codemirror_mode": {
    "name": "ipython",
    "version": 3
   },
   "file_extension": ".py",
   "mimetype": "text/x-python",
   "name": "python",
   "nbconvert_exporter": "python",
   "pygments_lexer": "ipython3",
   "version": "3.9.18"
  }
 },
 "nbformat": 4,
 "nbformat_minor": 5
}
