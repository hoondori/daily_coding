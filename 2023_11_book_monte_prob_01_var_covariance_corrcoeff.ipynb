{
 "cells": [
  {
   "cell_type": "code",
   "execution_count": null,
   "id": "7e1fdb95",
   "metadata": {},
   "outputs": [],
   "source": [
    "# conda env monte-prob"
   ]
  },
  {
   "cell_type": "markdown",
   "id": "b5d9e17a",
   "metadata": {},
   "source": [
    "# 몬테카를로 시뮬레이션으로 배우는 확률 통계 (분산,표준편차)"
   ]
  },
  {
   "cell_type": "markdown",
   "id": "09be6a3b",
   "metadata": {},
   "source": [
    "### 분산, 표준편차"
   ]
  },
  {
   "cell_type": "code",
   "execution_count": 5,
   "id": "3484887d",
   "metadata": {},
   "outputs": [],
   "source": [
    "def mean(x_list): \n",
    "    n = len(x_list)\n",
    "\n",
    "    sum_x = 0\n",
    "    for x in x_list:\n",
    "        sum_x += x\n",
    "    res = sum_x/n\n",
    "    return res\n",
    "\n",
    "assert mean([2,4,6]) == 4.0"
   ]
  },
  {
   "cell_type": "code",
   "execution_count": 12,
   "id": "41463eac",
   "metadata": {},
   "outputs": [],
   "source": [
    "def var(x_list):\n",
    "    n = len(x_list)\n",
    "    mean_x = mean(x_list)\n",
    "    \n",
    "    ss_x = 0\n",
    "    for x in x_list:\n",
    "        ss_x += (x-mean_x)**2\n",
    "    \n",
    "    res = ss_x/(n-1)\n",
    "    \n",
    "    return res\n",
    "\n",
    "def std(x_list):\n",
    "    var_x = var(x_list)\n",
    "    res = var_x**0.5\n",
    "    return res\n",
    "\n",
    "assert std([2,4,6,1,5,7,9,8,3]) == 2.7386127875258306\n",
    "\n",
    "# numpy와 동일성 확인\n",
    "import numpy as np\n",
    "assert np.std([2,4,6,1,5,7,9,8,3], ddof=1) == std([2,4,6,1,5,7,9,8,3])"
   ]
  },
  {
   "cell_type": "markdown",
   "id": "385a7d95",
   "metadata": {},
   "source": [
    "### 공분산, 상관계수"
   ]
  },
  {
   "cell_type": "code",
   "execution_count": 28,
   "id": "d6424b4b",
   "metadata": {},
   "outputs": [],
   "source": [
    "def cov(x1_list, x2_list):\n",
    "    n = len(x1_list)\n",
    "    \n",
    "    m1 = mean(x1_list)\n",
    "    m2 = mean(x2_list)\n",
    "    sum_ = 0\n",
    "    for i in range(0, n):\n",
    "        sum_ += (x1_list[i]-m1)*(x2_list[i]-m2)\n",
    "    res = sum_ / (n-1)\n",
    "    return res\n",
    "\n",
    "def corrcoef(x1_list, x2_list):\n",
    "    covariance = cov(x1_list, x2_list)\n",
    "    std1 = std(x1_list)\n",
    "    std2 = std(x2_list)\n",
    "    res = covariance/(std1*std2)\n",
    "    return res\n",
    "\n",
    "x1_list = [2,4,6,1,5,7,9,8,3]\n",
    "x2_list = [3,1,2,7,3,8,3,4,5]\n",
    "\n",
    "assert cov(x1_list, x2_list) == np.cov(x1_list, x2_list)[0,1]   # 2x2 행렬에서 대각선은 분산\n",
    "assert np.isclose(corrcoef(x1_list, x2_list), \n",
    "                  np.corrcoef(x1_list, x2_list)[0,1], \n",
    "                  rtol=1e-04, atol=1e-08, equal_nan=False)"
   ]
  },
  {
   "cell_type": "code",
   "execution_count": 24,
   "id": "5ef55887",
   "metadata": {},
   "outputs": [
    {
     "data": {
      "text/plain": [
       "-0.11952286093343938"
      ]
     },
     "execution_count": 24,
     "metadata": {},
     "output_type": "execute_result"
    }
   ],
   "source": [
    "corrcoef(x1_list, x2_list)"
   ]
  },
  {
   "cell_type": "code",
   "execution_count": 25,
   "id": "5537d1e5",
   "metadata": {},
   "outputs": [
    {
     "data": {
      "text/plain": [
       "-0.11952286093343936"
      ]
     },
     "execution_count": 25,
     "metadata": {},
     "output_type": "execute_result"
    }
   ],
   "source": [
    "np.corrcoef(x1_list, x2_list)[0,1]"
   ]
  }
 ],
 "metadata": {
  "kernelspec": {
   "display_name": "monte-prob",
   "language": "python",
   "name": "monte-prob"
  },
  "language_info": {
   "codemirror_mode": {
    "name": "ipython",
    "version": 3
   },
   "file_extension": ".py",
   "mimetype": "text/x-python",
   "name": "python",
   "nbconvert_exporter": "python",
   "pygments_lexer": "ipython3",
   "version": "3.9.18"
  }
 },
 "nbformat": 4,
 "nbformat_minor": 5
}
