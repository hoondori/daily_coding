{
 "cells": [
  {
   "cell_type": "code",
   "execution_count": 13,
   "id": "c9de2622",
   "metadata": {},
   "outputs": [],
   "source": [
    "from pydantic import BaseModel\n",
    "from typing import Optional, List\n",
    "import json \n",
    "from pprint import pprint\n",
    "\n",
    "class Address(BaseModel):\n",
    "  street: str\n",
    "  country: str = 'Korea'\n",
    "  zipcode: str\n",
    "\n",
    "class Person(BaseModel):\n",
    "  first_name: str\n",
    "  last_name: Optional[str]\n",
    "  address: Optional[Address]\n",
    "  favorite_numbers: List[int]"
   ]
  },
  {
   "cell_type": "code",
   "execution_count": 28,
   "id": "20a0df98",
   "metadata": {},
   "outputs": [
    {
     "name": "stdout",
     "output_type": "stream",
     "text": [
      "Overwriting person.json\n"
     ]
    }
   ],
   "source": [
    "%%writefile person.json\n",
    "[{\"address\": {\"country\": \"USA\", \"street\": \"123 Main st\", \"zipcode\": \"97201\"},\n",
    "   \"favorite_numbers\": [],\n",
    "   \"first_name\": \"Michael\",\n",
    "   \"last_name\": \"'Kennedy\"},\n",
    "  {\"address\": {\"country\": \"Korea\", \"street\": \"456 Main st\", \"zipcode\": \"12345\"},\n",
    "   \"favorite_numbers\": [44.5, \"22\", 7],\n",
    "   \"first_name\": \"Apple\"}\n",
    "]"
   ]
  },
  {
   "cell_type": "code",
   "execution_count": 29,
   "id": "1e3721fe",
   "metadata": {},
   "outputs": [
    {
     "name": "stdout",
     "output_type": "stream",
     "text": [
      "[{'address': {'country': 'USA', 'street': '123 Main st', 'zipcode': '97201'},\n",
      "  'favorite_numbers': [],\n",
      "  'first_name': 'Michael',\n",
      "  'last_name': \"'Kennedy\"},\n",
      " {'address': {'country': 'Korea', 'street': '456 Main st', 'zipcode': '12345'},\n",
      "  'favorite_numbers': [44.5, '22', 7],\n",
      "  'first_name': 'Apple'}]\n"
     ]
    }
   ],
   "source": [
    "with open('person.json') as f:\n",
    "  data = json.load(f)\n",
    "pprint(data)  "
   ]
  },
  {
   "cell_type": "code",
   "execution_count": 30,
   "id": "8327913b",
   "metadata": {},
   "outputs": [],
   "source": [
    "people = [Person(**p) for p in data]"
   ]
  },
  {
   "cell_type": "code",
   "execution_count": 31,
   "id": "106cb5d0",
   "metadata": {},
   "outputs": [
    {
     "name": "stdout",
     "output_type": "stream",
     "text": [
      "['{\"first_name\": \"Michael\", \"last_name\": \"\\'Kennedy\", \"address\": {\"street\": '\n",
      " '\"123 Main st\", \"country\": \"USA\", \"zipcode\": \"97201\"}, \"favorite_numbers\": '\n",
      " '[]}',\n",
      " '{\"first_name\": \"Apple\", \"last_name\": null, \"address\": {\"street\": \"456 Main '\n",
      " 'st\", \"country\": \"Korea\", \"zipcode\": \"12345\"}, \"favorite_numbers\": [44, 22, '\n",
      " '7]}']\n"
     ]
    }
   ],
   "source": [
    "people_as_json = [p.json() for p in people]\n",
    "pprint(people_as_json)"
   ]
  },
  {
   "cell_type": "code",
   "execution_count": 34,
   "id": "9e5a49ac",
   "metadata": {},
   "outputs": [
    {
     "name": "stdout",
     "output_type": "stream",
     "text": [
      "1 validation error for StrictIntModel\n",
      "strict_int\n",
      "  value is not a valid integer (type=type_error.integer)\n"
     ]
    }
   ],
   "source": [
    "from pydantic import (\n",
    "    BaseModel,\n",
    "    StrictBytes,\n",
    "    StrictBool,\n",
    "    StrictInt,\n",
    "    ValidationError,\n",
    "    confloat,\n",
    ")\n",
    "\n",
    "\n",
    "class StrictIntModel(BaseModel):\n",
    "    strict_int: StrictInt\n",
    "\n",
    "\n",
    "try:\n",
    "    StrictIntModel(strict_int=3.14159)\n",
    "except ValidationError as e:\n",
    "    print(e)\n"
   ]
  },
  {
   "cell_type": "code",
   "execution_count": null,
   "id": "f5010662",
   "metadata": {},
   "outputs": [],
   "source": []
  }
 ],
 "metadata": {
  "kernelspec": {
   "display_name": "ai",
   "language": "python",
   "name": "ai"
  },
  "language_info": {
   "codemirror_mode": {
    "name": "ipython",
    "version": 3
   },
   "file_extension": ".py",
   "mimetype": "text/x-python",
   "name": "python",
   "nbconvert_exporter": "python",
   "pygments_lexer": "ipython3",
   "version": "3.10.11"
  },
  "toc": {
   "base_numbering": 1,
   "nav_menu": {},
   "number_sections": true,
   "sideBar": true,
   "skip_h1_title": false,
   "title_cell": "Table of Contents",
   "title_sidebar": "Contents",
   "toc_cell": false,
   "toc_position": {},
   "toc_section_display": true,
   "toc_window_display": false
  }
 },
 "nbformat": 4,
 "nbformat_minor": 5
}
