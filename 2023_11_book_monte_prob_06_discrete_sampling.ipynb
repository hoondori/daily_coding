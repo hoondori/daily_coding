{
 "cells": [
  {
   "cell_type": "code",
   "execution_count": null,
   "id": "7e1fdb95",
   "metadata": {},
   "outputs": [],
   "source": [
    "# conda env monte-prob"
   ]
  },
  {
   "cell_type": "markdown",
   "id": "b5d9e17a",
   "metadata": {},
   "source": [
    "# 몬테카를로 시뮬레이션으로 배우는 확률 통계 (이산형 분포 샘플링)"
   ]
  },
  {
   "cell_type": "code",
   "execution_count": 2,
   "id": "56565d75",
   "metadata": {},
   "outputs": [],
   "source": [
    "import matplotlib.pyplot as plt\n",
    "plt.rcParams[\"figure.figsize\"] = (3,2)"
   ]
  },
  {
   "cell_type": "markdown",
   "id": "58add1df",
   "metadata": {},
   "source": [
    "## Uniform 난수 생성 (유사랜덤)\n",
    "\n",
    "multiplicative congruential generator(MCG)\n",
    "\n",
    "$x_{i} = (seed * x_{i} + 1)mod(2^{31}-1)$"
   ]
  },
  {
   "cell_type": "code",
   "execution_count": 63,
   "id": "1bee3cff",
   "metadata": {},
   "outputs": [
    {
     "data": {
      "text/plain": [
       "[1, 1, 0, 1, 1, 0, 0, 0, 1, 0, 1, 1, 1, 0, 1, 1, 1, 0, 0, 1]"
      ]
     },
     "execution_count": 63,
     "metadata": {},
     "output_type": "execute_result"
    }
   ],
   "source": [
    "def pseudo_sample(x0 = 16809,\n",
    "                  mod = (2**31)-1,\n",
    "                  seed = 1234567,\n",
    "                  size = 1):\n",
    "    res = []\n",
    "    x = (seed*x0 + 1)%mod\n",
    "    u = x/mod\n",
    "    res.append(u)\n",
    "    for i in range(1, size):\n",
    "        x = (seed*x + 1)%mod\n",
    "        u = x/mod\n",
    "        res.append(u)\n",
    "    return res\n",
    "\n",
    "def uniform_cont(low=0, high=1, seed=1234567, size=1):\n",
    "    s_list = pseudo_sample(seed=seed, size=size)\n",
    "    res = [low+(high-low)*s for s in s_list]\n",
    "    return res\n",
    "\n",
    "def uniform_disc(low=0, high=1, seed=1234567, size=1):\n",
    "    s_list = pseudo_sample(seed=seed, size=size)\n",
    "    res = [int(low+(high-low)*s) for s in s_list]\n",
    "    return res    \n",
    "\n",
    "uniform_disc(low=0, high=2, size=20)"
   ]
  },
  {
   "cell_type": "markdown",
   "id": "ec94f054",
   "metadata": {},
   "source": [
    "## Non-uniform 난수 생성 "
   ]
  },
  {
   "cell_type": "markdown",
   "id": "be12b226",
   "metadata": {},
   "source": [
    "### 누적 분포의 역함수를 이용해서 지수함수 난수 생성"
   ]
  },
  {
   "cell_type": "markdown",
   "id": "3c99ee40",
   "metadata": {},
   "source": [
    "균일 분포에서 난수를 추출한 후에, 해당 난수를 변형시켜 지수 분포를 따르는 난수 생성\n",
    "\n",
    "$f(u) = 1, 0 < u < 1$\n",
    "\n",
    "$f(x) = e^{-x}, x > 0$\n",
    "\n",
    "$x = -log(1-u)$"
   ]
  },
  {
   "cell_type": "code",
   "execution_count": 64,
   "id": "cd8c3b77",
   "metadata": {},
   "outputs": [
    {
     "data": {
      "image/png": "[encoded data removed]",
      "text/plain": [
       "<Figure size 300x200 with 1 Axes>"
      ]
     },
     "metadata": {},
     "output_type": "display_data"
    }
   ],
   "source": [
    "def log(x):\n",
    "    n = 10000000000.0\n",
    "    res = n*( (x**(1/n))-1)\n",
    "    return res\n",
    "\n",
    "u_list = uniform_cont(low=0, high=1, size=1000)\n",
    "x_list = [ -log(u) for u in u_list]\n",
    "plt.hist(x_list, bins=100)\n",
    "plt.show()"
   ]
  },
  {
   "cell_type": "markdown",
   "id": "ab1c52ce",
   "metadata": {},
   "source": [
    "## Acceptance-Rejection 을 이용한 지수함수 난수 생성\n",
    "\n",
    "$f(x) = e^{-x}, 0 < x < 10$\n",
    "\n",
    "$g(x) = \\frac{1}{10},  0<x, 10$\n"
   ]
  },
  {
   "cell_type": "code",
   "execution_count": 66,
   "id": "32000758",
   "metadata": {},
   "outputs": [
    {
     "data": {
      "image/png": "[encoded data removed]",
      "text/plain": [
       "<Figure size 300x200 with 1 Axes>"
      ]
     },
     "metadata": {},
     "output_type": "display_data"
    }
   ],
   "source": [
    "e = 2.7182818284\n",
    "c = 14\n",
    "\n",
    "y = uniform_cont(low=0, high=10, seed=12345, size=20000)\n",
    "u = uniform_cont(low=0, high=1, seed=77777, size=20000)\n",
    "n = len(y)\n",
    "\n",
    "x_list = []\n",
    "\n",
    "for i in range(0, n):\n",
    "    accept_prob = (e**(-y[i]))/(c*(1/10))\n",
    "    if u[i] < accept_prob:\n",
    "        x_list.append(y[i])\n",
    "        \n",
    "plt.hist(x_list, bins=100)\n",
    "plt.show()"
   ]
  },
  {
   "cell_type": "markdown",
   "id": "b279e1a9",
   "metadata": {},
   "source": [
    "## 포아송 분포 난수 생성"
   ]
  },
  {
   "cell_type": "code",
   "execution_count": 78,
   "id": "9d90a9b1",
   "metadata": {},
   "outputs": [
    {
     "data": {
      "image/png": "[encoded data removed]",
      "text/plain": [
       "<Figure size 300x200 with 1 Axes>"
      ]
     },
     "metadata": {},
     "output_type": "display_data"
    }
   ],
   "source": [
    "def get_possion_pmf(lamb):\n",
    "    \n",
    "    e = 2.7182818284\n",
    "    x_list = list(range(0,100))\n",
    "    \n",
    "    pmf = {}\n",
    "    for x in x_list:\n",
    "        prob = ((e**-lamb)*(lamb**x))/factorial(x)\n",
    "        pmf[x] = prob\n",
    "        \n",
    "    return pmf\n",
    "        \n",
    "def accept_reject(u_list, pmf):\n",
    "    res = []\n",
    "    \n",
    "    for u in u_list:\n",
    "        cumul_prob = 0\n",
    "        for X in pmf.keys():\n",
    "            cumul_prob += pmf[X]\n",
    "            if cumul_prob > u:\n",
    "                res.append(X)\n",
    "                break\n",
    "    return res\n",
    "\n",
    "def draw_dist(pmf, seed=1234567, size=1, bins=15):\n",
    "    u_list = pseudo_sample(seed=seed, size=size)\n",
    "\n",
    "    samples = accept_reject(u_list, pmf)\n",
    "    \n",
    "    plt.hist(samples, bins=bins)\n",
    "    plt.show()\n",
    "    \n",
    "pmf = get_possion_pmf(lamb=2)\n",
    "draw_dist(pmf, size=1000, bins=8)"
   ]
  },
  {
   "cell_type": "markdown",
   "id": "f3fb291a",
   "metadata": {},
   "source": [
    "## 지수 분포 난수 생성"
   ]
  },
  {
   "cell_type": "code",
   "execution_count": 86,
   "id": "7ad01fdc",
   "metadata": {},
   "outputs": [
    {
     "data": {
      "image/png": "[encoded data removed]",
      "text/plain": [
       "<Figure size 300x200 with 1 Axes>"
      ]
     },
     "metadata": {},
     "output_type": "display_data"
    }
   ],
   "source": [
    "def get_geom_pmf(p=0.5):\n",
    "    \n",
    "    e = 2.7182818284\n",
    "    x_list = list(range(0,100))\n",
    "    \n",
    "    pmf = {}\n",
    "    for x in x_list:\n",
    "        prob = p*((1-p)**(x-1))\n",
    "        pmf[x] = prob\n",
    "        \n",
    "    return pmf\n",
    "\n",
    "pmf = get_geom_pmf(p=0.1)\n",
    "draw_dist(pmf, size=1000, bins=15)"
   ]
  },
  {
   "cell_type": "markdown",
   "id": "4c49f8df",
   "metadata": {},
   "source": [
    "## 음이항 분포 난수 생성"
   ]
  },
  {
   "cell_type": "code",
   "execution_count": 90,
   "id": "fe0abb9c",
   "metadata": {},
   "outputs": [
    {
     "data": {
      "image/png": "[encoded data removed]",
      "text/plain": [
       "<Figure size 300x200 with 1 Axes>"
      ]
     },
     "metadata": {},
     "output_type": "display_data"
    }
   ],
   "source": [
    "def get_neg_binomial_pmf(r, p=0.5):\n",
    "    \n",
    "    x_list = list(range(r,100))\n",
    "    \n",
    "    pmf = {}\n",
    "    for x in x_list:\n",
    "        prob = combination(x-1, r-1)*(p**r)*((1-p)**(x-r))\n",
    "        pmf[x] = prob\n",
    "        \n",
    "    return pmf\n",
    "\n",
    "pmf = get_neg_binomial_pmf(r=2, p=0.3)\n",
    "draw_dist(pmf, size=1000, bins=24)"
   ]
  },
  {
   "cell_type": "code",
   "execution_count": null,
   "id": "67175940",
   "metadata": {},
   "outputs": [],
   "source": []
  }
 ],
 "metadata": {
  "kernelspec": {
   "display_name": "monte-prob",
   "language": "python",
   "name": "monte-prob"
  },
  "language_info": {
   "codemirror_mode": {
    "name": "ipython",
    "version": 3
   },
   "file_extension": ".py",
   "mimetype": "text/x-python",
   "name": "python",
   "nbconvert_exporter": "python",
   "pygments_lexer": "ipython3",
   "version": "3.9.18"
  }
 },
 "nbformat": 4,
 "nbformat_minor": 5
}
