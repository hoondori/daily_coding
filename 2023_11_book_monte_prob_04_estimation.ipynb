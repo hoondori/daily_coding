{
 "cells": [
  {
   "cell_type": "code",
   "execution_count": null,
   "id": "7e1fdb95",
   "metadata": {},
   "outputs": [],
   "source": [
    "# conda env monte-prob"
   ]
  },
  {
   "cell_type": "markdown",
   "id": "b5d9e17a",
   "metadata": {},
   "source": [
    "# 몬테카를로 시뮬레이션으로 배우는 확률 통계 (추정)"
   ]
  },
  {
   "cell_type": "code",
   "execution_count": 1,
   "id": "56565d75",
   "metadata": {},
   "outputs": [],
   "source": [
    "import matplotlib.pyplot as plt\n",
    "plt.rcParams[\"figure.figsize\"] = (3,2)"
   ]
  },
  {
   "cell_type": "markdown",
   "id": "09be6a3b",
   "metadata": {},
   "source": [
    "## MME"
   ]
  },
  {
   "cell_type": "markdown",
   "id": "e26c85ce",
   "metadata": {},
   "source": [
    "### 감마 분포를 따르는 x_list에 대해서 alpha, beta 추정하기"
   ]
  },
  {
   "cell_type": "code",
   "execution_count": 2,
   "id": "079739e3",
   "metadata": {},
   "outputs": [
    {
     "name": "stdout",
     "output_type": "stream",
     "text": [
      "true_alpha=3, estimated = 3.0721914745763295\n",
      "true_beta=2, estimated = 1.9602302394580642\n"
     ]
    }
   ],
   "source": [
    "import numpy as np\n",
    "\n",
    "def moment(x_list, k):\n",
    "    n = len(x_list)\n",
    "    sum_xk = 0\n",
    "    for x in x_list:\n",
    "        sum_xk += x**k\n",
    "    res = sum_xk/n\n",
    "    return res\n",
    "\n",
    "\n",
    "true_alpha = 3\n",
    "true_beta = 2\n",
    "x_list = np.random.gamma(shape=true_alpha, scale=true_beta, size=10000)\n",
    "\n",
    "moment1 = moment(x_list, 1)\n",
    "moment2 = moment(x_list, 2)\n",
    "\n",
    "alpha_hat = (moment1**2)/(moment2-moment1**2)\n",
    "print(f'true_alpha={true_alpha}, estimated = {alpha_hat}')\n",
    "\n",
    "beta_hat = (moment2 - moment1**2)/moment1\n",
    "print(f'true_beta={true_beta}, estimated = {beta_hat}')"
   ]
  },
  {
   "cell_type": "markdown",
   "id": "2c53d2ae",
   "metadata": {},
   "source": [
    "## MLE"
   ]
  },
  {
   "cell_type": "markdown",
   "id": "ee308f9b",
   "metadata": {},
   "source": [
    "#### 38경기 중 27승을 한 데이터가 주어졌을 때, 데이터가 관측될 (최대) 확률 추정"
   ]
  },
  {
   "cell_type": "code",
   "execution_count": 3,
   "id": "97e6338d",
   "metadata": {},
   "outputs": [
    {
     "name": "stdout",
     "output_type": "stream",
     "text": [
      "MLE prob = 0.1414931297689555, p = 0.71\n"
     ]
    },
    {
     "data": {
      "image/png": "[encoded data removed]",
      "text/plain": [
       "<Figure size 300x200 with 1 Axes>"
      ]
     },
     "metadata": {},
     "output_type": "display_data"
    }
   ],
   "source": [
    "from scipy.stats import binom\n",
    "import numpy as np\n",
    "\n",
    "def draw_likelihood(n, x):\n",
    "    \n",
    "    p_list = np.arange(0, 1, 0.01)\n",
    "    \n",
    "    probs = []\n",
    "    for p in p_list:\n",
    "        prob = binom.pmf(k=x, n=n, p=p)\n",
    "        probs.append(prob)\n",
    "        \n",
    "    max_prob_idx = np.argmax(probs)\n",
    "    max_prob = probs[max_prob_idx]\n",
    "    print(f'MLE prob = {max_prob}, p = {p_list[max_prob_idx]}')\n",
    "    \n",
    "    plt.plot(p_list, probs)\n",
    "    plt.show()\n",
    "    \n",
    "draw_likelihood(n=38,  x=27)"
   ]
  },
  {
   "cell_type": "markdown",
   "id": "6c7d93d4",
   "metadata": {},
   "source": [
    "## MAP"
   ]
  },
  {
   "cell_type": "markdown",
   "id": "f05d913a",
   "metadata": {},
   "source": [
    "### prior : beta, likelihood : binomial"
   ]
  },
  {
   "cell_type": "code",
   "execution_count": 14,
   "id": "4ba3bd70",
   "metadata": {},
   "outputs": [
    {
     "name": "stdout",
     "output_type": "stream",
     "text": [
      "MAP prob = 0.15648747931274903, max_p = 0.6400000000000003\n"
     ]
    },
    {
     "data": {
      "image/png": "[encoded data removed]",
      "text/plain": [
       "<Figure size 300x200 with 1 Axes>"
      ]
     },
     "metadata": {},
     "output_type": "display_data"
    }
   ],
   "source": [
    "def seq(start, stop, step):\n",
    "    res = []\n",
    "    current = start\n",
    "    while current < stop:\n",
    "        res.append(current)\n",
    "        current += step\n",
    "    return res\n",
    "\n",
    "def factorial(x):\n",
    "    x_list = list(range(1,x+1))\n",
    "    res = 1\n",
    "    for val in x_list:\n",
    "        res *= val\n",
    "    return res\n",
    "\n",
    "def combination(n, x):\n",
    "    res = factorial(n) / (factorial(x)*factorial(n-x))\n",
    "    return res\n",
    "\n",
    "\n",
    "def gamma_function(alpha, x):\n",
    "    e = 2.7182818284\n",
    "    res = (x**(alpha-1)*(e**(-x)))\n",
    "    return res\n",
    "\n",
    "def gamma(alpha):\n",
    "    a = 0\n",
    "    b = 100\n",
    "    x_list = seq(a+0.0001, b, 0.001)\n",
    "    \n",
    "    gamma_list = []\n",
    "    for x in x_list:\n",
    "        y = gamma_function(alpha, x)\n",
    "        gamma_list.append(y)\n",
    "    res = ((b-a)/len(x_list)*sum(gamma_list))\n",
    "    return res\n",
    "\n",
    "\n",
    "def draw_map(n, x):\n",
    "    \n",
    "    alpha = 10\n",
    "    beta = 10\n",
    "        \n",
    "    p_list = seq(0, 1, 0.01)\n",
    "    post_probs = []\n",
    "    for p in p_list:\n",
    "        beta_function = gamma(alpha+beta) / (gamma(alpha)*gamma(beta))\n",
    "        prior_prob = beta_function * (p**(alpha-1)) * ((1-p)**(beta-1))\n",
    "        likelihood = combination(n, x) * (p**x) * ((1-p)**(n-x))\n",
    "        post_prob = likelihood * prior_prob\n",
    "        post_probs.append(post_prob)\n",
    "\n",
    "    max_prob = max(post_probs)\n",
    "    max_idx = post_probs.index(max_prob)\n",
    "    max_p = p_list[max_idx]    \n",
    "    \n",
    "    print(f'MAP prob = {max_prob}, max_p = {p_list[max_idx]}')\n",
    "    \n",
    "    plt.plot(p_list, post_probs)\n",
    "    plt.vlines(max_p, 0, max_prob, color=\"red\", linestyle=\"--\")\n",
    "    plt.show()\n",
    "\n",
    "\n",
    "draw_map(n=38, x=27)"
   ]
  }
 ],
 "metadata": {
  "kernelspec": {
   "display_name": "monte-prob",
   "language": "python",
   "name": "monte-prob"
  },
  "language_info": {
   "codemirror_mode": {
    "name": "ipython",
    "version": 3
   },
   "file_extension": ".py",
   "mimetype": "text/x-python",
   "name": "python",
   "nbconvert_exporter": "python",
   "pygments_lexer": "ipython3",
   "version": "3.9.18"
  }
 },
 "nbformat": 4,
 "nbformat_minor": 5
}
