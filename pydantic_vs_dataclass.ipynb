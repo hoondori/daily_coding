{
 "cells": [
  {
   "cell_type": "code",
   "execution_count": null,
   "id": "d0161a43",
   "metadata": {},
   "outputs": [],
   "source": [
    "# data containing을 하는 다양한 alternat"
   ]
  },
  {
   "cell_type": "code",
   "execution_count": 1,
   "id": "36f945db",
   "metadata": {},
   "outputs": [
    {
     "name": "stdout",
     "output_type": "stream",
     "text": [
      "<__main__.plain_class_example.<locals>.T object at 0x7fe950681d20>\n"
     ]
    }
   ],
   "source": [
    "def plain_class_example():\n",
    "  class T:\n",
    "    def __init__(self, n:int, f: float, s:str):\n",
    "      self.n = n\n",
    "      self.f = f\n",
    "      self.s = s\n",
    "  \n",
    "  x = T(42, 4.5, 'hello')\n",
    "  x = T(42, f=4.5, s='hello')\n",
    "  y = x.n\n",
    "  x.n = 0 # mutable \n",
    "  print(x)\n",
    "plain_class_example()"
   ]
  },
  {
   "cell_type": "code",
   "execution_count": 2,
   "id": "95de0ab7",
   "metadata": {},
   "outputs": [
    {
     "name": "stdout",
     "output_type": "stream",
     "text": [
      "dataclass_example.<locals>.T(n=0, f=4.5, s='hello')\n"
     ]
    }
   ],
   "source": [
    "from dataclasses import dataclass\n",
    "\n",
    "def dataclass_example():\n",
    "  @dataclass\n",
    "  class T:\n",
    "    n: int\n",
    "    f: float\n",
    "    s: str\n",
    "  \n",
    "  x = T(42, 4.5, 'hello')\n",
    "  x = T(42, f=4.5, s='hello')\n",
    "  y = x.n\n",
    "  x.n = 0 # mutable \n",
    "  print(x)\n",
    "dataclass_example()   "
   ]
  },
  {
   "cell_type": "code",
   "execution_count": 3,
   "id": "8b10dbde",
   "metadata": {},
   "outputs": [
    {
     "name": "stdout",
     "output_type": "stream",
     "text": [
      "T(n=0, f=4.5, s='good-bye')\n"
     ]
    }
   ],
   "source": [
    "import attr\n",
    "\n",
    "def attr_example():\n",
    "  @attr.s\n",
    "  class T:\n",
    "    n: int = attr.ib(converter=int) # verbose\n",
    "    f: float = attr.ib(validator=attr.validators.instance_of(float))\n",
    "    s: str = attr.ib(default='good-bye')\n",
    "    #l: list = attr.ib(default_factory=list)\n",
    "  \n",
    "  x = T(42, f=4.5)\n",
    "  # can convert or validate but not required\n",
    "  y = x.n\n",
    "  x.n = 0 # mutable \n",
    "\n",
    "  print(x)\n",
    "attr_example()  "
   ]
  },
  {
   "cell_type": "code",
   "execution_count": 7,
   "id": "dc21bb59",
   "metadata": {},
   "outputs": [],
   "source": [
    "def namedtuple_example():\n",
    "  from collections import namedtuple\n",
    "  \n",
    "  T = namedtuple('T', ['n', 'f', 's'])\n",
    "  \n",
    "  x = T(42, 4.5, 'hello')\n",
    "  x = T(42, f=4.5, s='hello')\n",
    "  \n",
    "  y = x[0]\n",
    "  y = x.n\n",
    "  # immutable\n",
    "namedtuple_example()  "
   ]
  },
  {
   "cell_type": "code",
   "execution_count": 8,
   "id": "f2fd64b9",
   "metadata": {},
   "outputs": [],
   "source": [
    "def dict_example():\n",
    "  \n",
    "  x = {\n",
    "    'n': 42,\n",
    "    'f': 4.5,\n",
    "    's': 'hello'\n",
    "  }\n",
    "    \n",
    "  y = x['n'] # access by str error-prone\n",
    "  x['n'] = 0\n",
    "\n",
    "dict_example()  "
   ]
  },
  {
   "cell_type": "code",
   "execution_count": 10,
   "id": "c9a943de",
   "metadata": {},
   "outputs": [],
   "source": [
    "'''\n",
    "what is simplename space\n",
    "\n",
    "class SimpleNamespace:\n",
    "    def __init__(self, **kwargs):\n",
    "        self.__dict__.update(kwargs)\n",
    "\n",
    "    def __repr__(self):\n",
    "        keys = sorted(self.__dict__)\n",
    "        items = (\"{}={!r}\".format(k, self.__dict__[k]) for k in keys)\n",
    "        return \"{}({})\".format(type(self).__name__, \", \".join(items))\n",
    "\n",
    "    def __eq__(self, other):\n",
    "        return self.__dict__ == other.__dict__\n",
    "\n",
    "'''\n",
    "\n",
    "def SimpleNameSpace_example():\n",
    "  from types import SimpleNamespace\n",
    "  \n",
    "  x = SimpleNamespace(n=42, f=4.5, s='hello')  # must be kwargs\n",
    "    \n",
    "  y = x.n\n",
    "  x.n= 0\n",
    "\n",
    "SimpleNameSpace_example()  "
   ]
  },
  {
   "cell_type": "code",
   "execution_count": 13,
   "id": "16ddb160",
   "metadata": {},
   "outputs": [],
   "source": [
    "def pydantic_example():\n",
    "  from pydantic import BaseModel\n",
    "  \n",
    "  class T(BaseModel):\n",
    "    n: int\n",
    "    f: float\n",
    "    s: str\n",
    "\n",
    "  x = T(n=42, f=4.5, s='hello')\n",
    "  y = x.n\n",
    "  x.n = 0\n",
    "  # args always converted to given types, type-checked at runtime\n",
    "  \n",
    "pydantic_example()  "
   ]
  }
 ],
 "metadata": {
  "kernelspec": {
   "display_name": "ai",
   "language": "python",
   "name": "ai"
  },
  "language_info": {
   "codemirror_mode": {
    "name": "ipython",
    "version": 3
   },
   "file_extension": ".py",
   "mimetype": "text/x-python",
   "name": "python",
   "nbconvert_exporter": "python",
   "pygments_lexer": "ipython3",
   "version": "3.10.11"
  },
  "toc": {
   "base_numbering": 1,
   "nav_menu": {},
   "number_sections": true,
   "sideBar": true,
   "skip_h1_title": false,
   "title_cell": "Table of Contents",
   "title_sidebar": "Contents",
   "toc_cell": false,
   "toc_position": {},
   "toc_section_display": true,
   "toc_window_display": false
  }
 },
 "nbformat": 4,
 "nbformat_minor": 5
}
